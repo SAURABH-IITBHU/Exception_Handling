{
 "cells": [
  {
   "cell_type": "markdown",
   "id": "71f61cc8-8375-4ecb-9e28-1e7c94b7ac58",
   "metadata": {},
   "source": [
    "## Q1. What is an Exception in python? Write the difference between Exceptions and syntex errors?"
   ]
  },
  {
   "cell_type": "markdown",
   "id": "ffb3546d-ad70-498d-bb90-d751dc425713",
   "metadata": {},
   "source": [
    "#### Ans.\n",
    "#### An Exception is an error that happens during the execution of a program. Whenever there is an error, Python generates an exception that could be handled. It basically prevents the program from getting crashed.\n",
    "\n",
    "#### Syntax error comes when there is a mistake is writing the code and which not according to the pre-defined syntax of Python. Errors mostly happen at compile-time like syntax error; however it can happen at runtime as well. \n",
    "#### Whereas an Exception is an event that occurs during the program execution and disrupts the normal flow of the program's execution. Exception occurs at runtime."
   ]
  },
  {
   "cell_type": "code",
   "execution_count": null,
   "id": "13697a26-2efe-480f-809a-b5fde7ace4a1",
   "metadata": {},
   "outputs": [],
   "source": []
  },
  {
   "cell_type": "markdown",
   "id": "38cb5c6e-e3ea-4d86-baa0-f799161f6991",
   "metadata": {},
   "source": [
    "## Q2. What happens when an exception is not handled? Explain with an example."
   ]
  },
  {
   "cell_type": "markdown",
   "id": "f8189ef2-ab81-442c-9c48-2cb358a93ac6",
   "metadata": {},
   "source": [
    "#### Ans.\n",
    "#### When an exception is not hanlded, the program terminates abruptly and the code past the line that caused the exception will not get executed."
   ]
  },
  {
   "cell_type": "markdown",
   "id": "342ae3a1-d7d7-4889-8dad-18b6661b2127",
   "metadata": {},
   "source": [
    "## Example:-"
   ]
  },
  {
   "cell_type": "code",
   "execution_count": 1,
   "id": "5ee271d8-a496-4c18-8008-bd1267443545",
   "metadata": {},
   "outputs": [
    {
     "ename": "ZeroDivisionError",
     "evalue": "division by zero",
     "output_type": "error",
     "traceback": [
      "\u001b[0;31m---------------------------------------------------------------------------\u001b[0m",
      "\u001b[0;31mZeroDivisionError\u001b[0m                         Traceback (most recent call last)",
      "Cell \u001b[0;32mIn[1], line 4\u001b[0m\n\u001b[1;32m      1\u001b[0m a \u001b[38;5;241m=\u001b[39m \u001b[38;5;241m10\u001b[39m\n\u001b[1;32m      2\u001b[0m b \u001b[38;5;241m=\u001b[39m \u001b[38;5;241m0\u001b[39m\n\u001b[0;32m----> 4\u001b[0m \u001b[38;5;28mprint\u001b[39m(\u001b[43ma\u001b[49m\u001b[38;5;241;43m/\u001b[39;49m\u001b[43mb\u001b[49m)\n\u001b[1;32m      6\u001b[0m \u001b[38;5;28mprint\u001b[39m(\u001b[38;5;124m'\u001b[39m\u001b[38;5;124mHello\u001b[39m\u001b[38;5;124m'\u001b[39m)\n",
      "\u001b[0;31mZeroDivisionError\u001b[0m: division by zero"
     ]
    }
   ],
   "source": [
    "a = 10\n",
    "b = 0\n",
    "\n",
    "print(a/b)\n",
    "\n",
    "print('Hello')"
   ]
  },
  {
   "cell_type": "code",
   "execution_count": 2,
   "id": "5f58bc3f-d58a-45ab-b337-792f58aa5f08",
   "metadata": {},
   "outputs": [
    {
     "name": "stdout",
     "output_type": "stream",
     "text": [
      "The error is:- division by zero\n",
      "Hello\n"
     ]
    }
   ],
   "source": [
    "a = 10\n",
    "b = 0\n",
    "\n",
    "try:\n",
    "    print(a/b)\n",
    "except Exception as e:\n",
    "    print('The error is:-',e)\n",
    "\n",
    "    print('Hello')"
   ]
  },
  {
   "cell_type": "code",
   "execution_count": null,
   "id": "ec0a81dc-269b-4e68-9942-f1a289f038bc",
   "metadata": {},
   "outputs": [],
   "source": []
  },
  {
   "cell_type": "markdown",
   "id": "6f728d87-367f-4c75-871a-bf86bdd97126",
   "metadata": {},
   "source": [
    "## Q3. Which Python statements are used to catch and handle exceptions? Explain with an example."
   ]
  },
  {
   "cell_type": "markdown",
   "id": "b1b8071e-be05-467b-befc-6992eb235296",
   "metadata": {},
   "source": [
    "#### Ans.\n",
    "#### The try and except block isn used to handle the exceptions in Python."
   ]
  },
  {
   "cell_type": "markdown",
   "id": "219c75e0-ac8c-4bc9-a710-4721dfb12212",
   "metadata": {},
   "source": [
    "#### Example:-"
   ]
  },
  {
   "cell_type": "code",
   "execution_count": 3,
   "id": "3e1dc840-407b-4a2c-90dd-b4b7f09954ec",
   "metadata": {},
   "outputs": [
    {
     "name": "stdin",
     "output_type": "stream",
     "text": [
      "Enter a number:-  5\n"
     ]
    },
    {
     "name": "stdout",
     "output_type": "stream",
     "text": [
      "There is an isuue:- can only concatenate str (not \"int\") to str\n"
     ]
    }
   ],
   "source": [
    "a = input('Enter a number:- ')\n",
    "try:\n",
    "    print(a+5)\n",
    "except Exception as e:\n",
    "    print('There is an isuue:-',e)"
   ]
  },
  {
   "cell_type": "code",
   "execution_count": null,
   "id": "a35526e4-8ca3-4de8-abaa-c718ed1ca439",
   "metadata": {},
   "outputs": [],
   "source": []
  },
  {
   "cell_type": "markdown",
   "id": "71c282b6-576b-44aa-9b6c-a9e5d50915e6",
   "metadata": {},
   "source": [
    "## Q4. Explain with an example: \n",
    "## a. try and else\n",
    "## b. finally\n",
    "## c. raise"
   ]
  },
  {
   "cell_type": "markdown",
   "id": "bd3abdc0-98fd-4142-afeb-a5dfe30681f4",
   "metadata": {},
   "source": [
    "#### Ans.\n",
    "## a. \n",
    "#### else block will only execute if try block executes succesfully.\n",
    "#### Example:-"
   ]
  },
  {
   "cell_type": "code",
   "execution_count": 4,
   "id": "577773b3-f75c-4e2c-bbd4-e62b971b3011",
   "metadata": {},
   "outputs": [
    {
     "name": "stdin",
     "output_type": "stream",
     "text": [
      "Enter number:-  10\n"
     ]
    },
    {
     "name": "stdout",
     "output_type": "stream",
     "text": [
      "There is a issue:- can only concatenate str (not \"int\") to str\n"
     ]
    }
   ],
   "source": [
    "num = input('Enter number:- ')\n",
    "try:\n",
    "    print(num + 10)\n",
    "except Exception as e:\n",
    "    print('There is a issue:-', e)\n",
    "else:\n",
    "    print('Done!! Try block executed succesfully')"
   ]
  },
  {
   "cell_type": "code",
   "execution_count": 5,
   "id": "8f2e197a-1c64-4840-9472-6adc8a09adb7",
   "metadata": {},
   "outputs": [
    {
     "name": "stdin",
     "output_type": "stream",
     "text": [
      "Enter number:-  10\n"
     ]
    },
    {
     "name": "stdout",
     "output_type": "stream",
     "text": [
      "20\n",
      "Done!! Try block executed succesfully\n"
     ]
    }
   ],
   "source": [
    "num = int(input('Enter number:- '))\n",
    "try:\n",
    "    print(num + 10)\n",
    "except Exception as e:\n",
    "    print('There is a issue:-', e)\n",
    "else:\n",
    "    print('Done!! Try block executed succesfully')"
   ]
  },
  {
   "cell_type": "code",
   "execution_count": null,
   "id": "22712f7c-095f-40f3-9ba1-9b00d8655026",
   "metadata": {},
   "outputs": [],
   "source": []
  },
  {
   "cell_type": "markdown",
   "id": "51369616-eca4-429e-bc4a-eef1eb2840c5",
   "metadata": {},
   "source": [
    "## b.\n",
    "#### finally block executes always whether try block executed or not\n",
    "#### Example:-"
   ]
  },
  {
   "cell_type": "code",
   "execution_count": 6,
   "id": "99b41d35-e50f-4245-9195-59bf648cb354",
   "metadata": {},
   "outputs": [
    {
     "name": "stdin",
     "output_type": "stream",
     "text": [
      "Enter number:-  10\n"
     ]
    },
    {
     "name": "stdout",
     "output_type": "stream",
     "text": [
      "There is a issue:- can only concatenate str (not \"int\") to str\n",
      "Finally block executed.\n"
     ]
    }
   ],
   "source": [
    "num = input('Enter number:- ')\n",
    "try:\n",
    "    print(num + 10)\n",
    "except Exception as e:\n",
    "    print('There is a issue:-', e)\n",
    "else:\n",
    "    print('Done!! Try block executed succesfully')\n",
    "finally:\n",
    "    print('Finally block executed.')"
   ]
  },
  {
   "cell_type": "code",
   "execution_count": 7,
   "id": "cedc8467-5b93-4d30-9032-8419c77451c7",
   "metadata": {},
   "outputs": [
    {
     "name": "stdin",
     "output_type": "stream",
     "text": [
      "Enter number:-  10\n"
     ]
    },
    {
     "name": "stdout",
     "output_type": "stream",
     "text": [
      "20\n",
      "Done!! Try block executed succesfully\n",
      "Finally block executed.\n"
     ]
    }
   ],
   "source": [
    "num = int(input('Enter number:- '))\n",
    "try:\n",
    "    print(num + 10)\n",
    "except Exception as e:\n",
    "    print('There is a issue:-', e)\n",
    "else:\n",
    "    print('Done!! Try block executed succesfully')\n",
    "finally:\n",
    "    print('Finally block executed.')"
   ]
  },
  {
   "cell_type": "code",
   "execution_count": null,
   "id": "38f65ae2-a3e9-42bd-ad27-3f349ccc4ef1",
   "metadata": {},
   "outputs": [],
   "source": []
  },
  {
   "cell_type": "markdown",
   "id": "030e783e-082d-43c1-a35f-67f3ccd1565f",
   "metadata": {},
   "source": [
    "## c.\n",
    "#### The raise keyword is used to raise an exception. You can define what kind of error to raise, and the text to print to the user. It is also used to make custom exception. \n",
    "#### Example:-"
   ]
  },
  {
   "cell_type": "code",
   "execution_count": 8,
   "id": "36012541-3d44-4e14-9000-aaa6770f47c1",
   "metadata": {},
   "outputs": [
    {
     "name": "stdin",
     "output_type": "stream",
     "text": [
      "Enter number:-  10\n"
     ]
    }
   ],
   "source": [
    "age = int(input('Enter number:- '))\n",
    "if age < 0:\n",
    "  raise Exception(\"Sorry, age can not be less than zero\")"
   ]
  },
  {
   "cell_type": "code",
   "execution_count": 10,
   "id": "cf2c7f3a-cc41-4055-9a19-29c1be733f43",
   "metadata": {},
   "outputs": [
    {
     "name": "stdin",
     "output_type": "stream",
     "text": [
      "Enter number:-  -10\n"
     ]
    },
    {
     "ename": "Exception",
     "evalue": "Sorry, age can not be less than zero",
     "output_type": "error",
     "traceback": [
      "\u001b[0;31m---------------------------------------------------------------------------\u001b[0m",
      "\u001b[0;31mException\u001b[0m                                 Traceback (most recent call last)",
      "Cell \u001b[0;32mIn[10], line 3\u001b[0m\n\u001b[1;32m      1\u001b[0m age \u001b[38;5;241m=\u001b[39m \u001b[38;5;28mint\u001b[39m(\u001b[38;5;28minput\u001b[39m(\u001b[38;5;124m'\u001b[39m\u001b[38;5;124mEnter number:- \u001b[39m\u001b[38;5;124m'\u001b[39m))\n\u001b[1;32m      2\u001b[0m \u001b[38;5;28;01mif\u001b[39;00m age \u001b[38;5;241m<\u001b[39m \u001b[38;5;241m0\u001b[39m:\n\u001b[0;32m----> 3\u001b[0m   \u001b[38;5;28;01mraise\u001b[39;00m \u001b[38;5;167;01mException\u001b[39;00m(\u001b[38;5;124m\"\u001b[39m\u001b[38;5;124mSorry, age can not be less than zero\u001b[39m\u001b[38;5;124m\"\u001b[39m)\n\u001b[1;32m      5\u001b[0m \u001b[38;5;28mprint\u001b[39m(\u001b[38;5;124m'\u001b[39m\u001b[38;5;124ma\u001b[39m\u001b[38;5;124m'\u001b[39m)\n",
      "\u001b[0;31mException\u001b[0m: Sorry, age can not be less than zero"
     ]
    }
   ],
   "source": [
    "age = int(input('Enter number:- '))\n",
    "if age < 0:\n",
    "  raise Exception(\"Sorry, age can not be less than zero\")"
   ]
  },
  {
   "cell_type": "code",
   "execution_count": null,
   "id": "116da72a-95b2-4504-9841-18e556a06800",
   "metadata": {},
   "outputs": [],
   "source": []
  },
  {
   "cell_type": "markdown",
   "id": "92c1a18c-6af5-4d55-8967-1e9dbbe7aa07",
   "metadata": {},
   "source": [
    "## Q5. What are Custom Exceptions in python? Why do we need Custom Exceptions? Explain with an example"
   ]
  },
  {
   "cell_type": "markdown",
   "id": "64acd19e-3596-4342-85c5-46974b4dda34",
   "metadata": {},
   "source": [
    "#### Ans. Custom exceptions are those which are not the exceptions for Python and system but we want them as exception in our program to fulifll the requirements.\n",
    "\n",
    "#### Custom exceptions provide you the flexibility to add attributes and methods that are not part of a standard Python exception.\n",
    "\n",
    "#### raise keyword is used for custom exceptions."
   ]
  },
  {
   "cell_type": "markdown",
   "id": "f4bf7de0-26f8-44ab-a380-2bc1592e961c",
   "metadata": {},
   "source": [
    "#### Example:-"
   ]
  },
  {
   "cell_type": "code",
   "execution_count": 12,
   "id": "74444495-c19b-4885-ac1a-00e0ad5ce514",
   "metadata": {},
   "outputs": [
    {
     "name": "stdin",
     "output_type": "stream",
     "text": [
      "Enter your age:-  21\n"
     ]
    },
    {
     "name": "stdout",
     "output_type": "stream",
     "text": [
      "Your are eligible\n"
     ]
    }
   ],
   "source": [
    "class voteAge(Exception):\n",
    "    pass\n",
    "\n",
    "try:\n",
    "    vote_age = int(input('Enter your age:- '))\n",
    "    if vote_age < 18:\n",
    "        raise voteAge\n",
    "    else:\n",
    "        print('Your are eligible')\n",
    "except voteAge:\n",
    "    print('Invalid age')"
   ]
  },
  {
   "cell_type": "code",
   "execution_count": null,
   "id": "8c7d2957-15ed-4203-9147-e711417841db",
   "metadata": {},
   "outputs": [],
   "source": []
  },
  {
   "cell_type": "code",
   "execution_count": 13,
   "id": "125f2a43-4520-4aef-b730-8e6f87f68c57",
   "metadata": {},
   "outputs": [
    {
     "name": "stdin",
     "output_type": "stream",
     "text": [
      "Enter your age:-  17\n"
     ]
    },
    {
     "name": "stdout",
     "output_type": "stream",
     "text": [
      "Invalid age\n"
     ]
    }
   ],
   "source": [
    "class voteAge(Exception):\n",
    "    pass\n",
    "\n",
    "try:\n",
    "    vote_age = int(input('Enter your age:- '))\n",
    "    if vote_age < 18:\n",
    "        raise voteAge\n",
    "    else:\n",
    "        print('Your are eligible')\n",
    "except voteAge:\n",
    "    print('Invalid age')"
   ]
  },
  {
   "cell_type": "code",
   "execution_count": null,
   "id": "d45b48ef-891c-42f4-b05f-e39a5c5602f2",
   "metadata": {},
   "outputs": [],
   "source": []
  },
  {
   "cell_type": "markdown",
   "id": "48d82ef2-e861-4aa0-9146-9fa913e28597",
   "metadata": {},
   "source": [
    "## Q6. Create a custom exception class. Use this class to handle an exception."
   ]
  },
  {
   "cell_type": "markdown",
   "id": "e4e6f777-b843-4e9c-b6a7-2c584c53cea7",
   "metadata": {},
   "source": [
    "#### Ans."
   ]
  },
  {
   "cell_type": "code",
   "execution_count": 14,
   "id": "fbc9918d-5f39-4bcf-a212-964bdfc7f08a",
   "metadata": {},
   "outputs": [],
   "source": [
    "class heightVerify(Exception):\n",
    "    def __init__(self, msg):\n",
    "        self.msg = msg"
   ]
  },
  {
   "cell_type": "code",
   "execution_count": 15,
   "id": "d5559f3c-d8f4-445a-be09-ffc641660e48",
   "metadata": {},
   "outputs": [],
   "source": [
    "def verify_height(height):\n",
    "    if height <  0:\n",
    "        raise heightVerify('height can not be negative')\n",
    "    elif height < 140:\n",
    "        raise heightVerify('Your height is short')\n",
    "    elif height >180:\n",
    "        raise heightVerify('You are too long')\n",
    "    else:\n",
    "        print('you entered valid height')"
   ]
  },
  {
   "cell_type": "code",
   "execution_count": 16,
   "id": "841d7a55-cef5-4cce-a5eb-f3b7d92c048a",
   "metadata": {},
   "outputs": [
    {
     "name": "stdin",
     "output_type": "stream",
     "text": [
      "Enter your height for activity in centimeters:-  -45\n"
     ]
    },
    {
     "name": "stdout",
     "output_type": "stream",
     "text": [
      "height can not be negative\n",
      "Have a good day\n"
     ]
    }
   ],
   "source": [
    "try:\n",
    "    height = int(input('Enter your height for activity in centimeters:- '))\n",
    "    verify_height(height)\n",
    "except heightVerify as h:\n",
    "    print(h)\n",
    "else:\n",
    "    print('Welcome')\n",
    "finally:\n",
    "    print('Have a good day')"
   ]
  },
  {
   "cell_type": "code",
   "execution_count": null,
   "id": "418241a9-9fe0-465b-b0cf-037e2705dfc2",
   "metadata": {},
   "outputs": [],
   "source": []
  },
  {
   "cell_type": "code",
   "execution_count": 17,
   "id": "a8fb5f3d-1246-4c89-a68c-4add57cec634",
   "metadata": {},
   "outputs": [
    {
     "name": "stdin",
     "output_type": "stream",
     "text": [
      "Enter your height for activity in centimeters:-  130\n"
     ]
    },
    {
     "name": "stdout",
     "output_type": "stream",
     "text": [
      "Your height is short\n",
      "Have a good day\n"
     ]
    }
   ],
   "source": [
    "try:\n",
    "    height = int(input('Enter your height for activity in centimeters:- '))\n",
    "    verify_height(height)\n",
    "except heightVerify as h:\n",
    "    print(h)\n",
    "else:\n",
    "    print('Welcome')\n",
    "finally:\n",
    "    print('Have a good day')"
   ]
  },
  {
   "cell_type": "code",
   "execution_count": null,
   "id": "d7828858-0442-4c50-b76a-f23da9b85b89",
   "metadata": {},
   "outputs": [],
   "source": []
  },
  {
   "cell_type": "code",
   "execution_count": 18,
   "id": "045361b8-04f0-41db-a44e-b2453a3e6575",
   "metadata": {},
   "outputs": [
    {
     "name": "stdin",
     "output_type": "stream",
     "text": [
      "Enter your height for activity in centimeters:-  185\n"
     ]
    },
    {
     "name": "stdout",
     "output_type": "stream",
     "text": [
      "You are too long\n",
      "Have a good day\n"
     ]
    }
   ],
   "source": [
    "try:\n",
    "    height = int(input('Enter your height for activity in centimeters:- '))\n",
    "    verify_height(height)\n",
    "except heightVerify as h:\n",
    "    print(h)\n",
    "else:\n",
    "    print('Welcome')\n",
    "finally:\n",
    "    print('Have a good day')"
   ]
  },
  {
   "cell_type": "code",
   "execution_count": null,
   "id": "0dfe728f-cc93-4e03-8037-fadf577d5777",
   "metadata": {},
   "outputs": [],
   "source": []
  },
  {
   "cell_type": "code",
   "execution_count": 19,
   "id": "cd7f867b-98d2-4843-9594-745d4068f173",
   "metadata": {},
   "outputs": [
    {
     "name": "stdin",
     "output_type": "stream",
     "text": [
      "Enter your height for activity in centimeters:-  175\n"
     ]
    },
    {
     "name": "stdout",
     "output_type": "stream",
     "text": [
      "you entered valid height\n",
      "Welcome\n",
      "Have a good day\n"
     ]
    }
   ],
   "source": [
    "try:\n",
    "    height = int(input('Enter your height for activity in centimeters:- '))\n",
    "    verify_height(height)\n",
    "except heightVerify as h:\n",
    "    print(h)\n",
    "else:\n",
    "    print('Welcome')\n",
    "finally:\n",
    "    print('Have a good day')"
   ]
  }
 ],
 "metadata": {
  "kernelspec": {
   "display_name": "Python 3 (ipykernel)",
   "language": "python",
   "name": "python3"
  },
  "language_info": {
   "codemirror_mode": {
    "name": "ipython",
    "version": 3
   },
   "file_extension": ".py",
   "mimetype": "text/x-python",
   "name": "python",
   "nbconvert_exporter": "python",
   "pygments_lexer": "ipython3",
   "version": "3.10.8"
  }
 },
 "nbformat": 4,
 "nbformat_minor": 5
}
